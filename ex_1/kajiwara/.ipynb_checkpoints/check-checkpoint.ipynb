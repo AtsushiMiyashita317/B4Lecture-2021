{
 "cells": [
  {
   "cell_type": "code",
   "execution_count": 1,
   "id": "946a6f5c-e654-4fd5-8fda-446c460885a5",
   "metadata": {},
   "outputs": [],
   "source": [
    "from IPython.display import Audio\n",
    "\n",
    "import numpy as np\n",
    "import librosa\n",
    "from sklearn.metrics import mean_squared_error\n",
    "\n",
    "from main import stft, instft"
   ]
  },
  {
   "cell_type": "code",
   "execution_count": 2,
   "id": "7f3128c8-024d-47cf-864f-1bd51a6cb360",
   "metadata": {},
   "outputs": [],
   "source": [
    "wave_data, sr = librosa.load('./sounds/sample.wav')\n",
    "\n",
    "cv = stft(wave_data, win_size=1024, overlap=0.5)\n",
    "db = librosa.amplitude_to_db(np.abs(cv))\n",
    "\n",
    "temp = wave_data.copy()\n",
    "inv_data = instft(cv.T)/1000"
   ]
  },
  {
   "cell_type": "code",
   "execution_count": 3,
   "id": "83dd9fcb-9e1b-43bc-863b-724ce1ef7fdc",
   "metadata": {},
   "outputs": [
    {
     "data": {
      "text/plain": [
       "4.748933949322184e-05"
      ]
     },
     "execution_count": 3,
     "metadata": {},
     "output_type": "execute_result"
    }
   ],
   "source": [
    "mean_squared_error(wave_data, inv_data[:len(wave_data)])"
   ]
  },
  {
   "cell_type": "code",
   "execution_count": null,
   "id": "cf6cd0e5-1f6c-446e-9cbc-1c1b93bc7fbf",
   "metadata": {},
   "outputs": [],
   "source": []
  }
 ],
 "metadata": {
  "kernelspec": {
   "display_name": "rinko_env",
   "language": "python",
   "name": "rinko_env"
  },
  "language_info": {
   "codemirror_mode": {
    "name": "ipython",
    "version": 3
   },
   "file_extension": ".py",
   "mimetype": "text/x-python",
   "name": "python",
   "nbconvert_exporter": "python",
   "pygments_lexer": "ipython3",
   "version": "3.8.8"
  }
 },
 "nbformat": 4,
 "nbformat_minor": 5
}
